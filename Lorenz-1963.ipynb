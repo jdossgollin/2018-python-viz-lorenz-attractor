version https://git-lfs.github.com/spec/v1
oid sha256:9deab169da19928d04a095d8f1bcd87be5fcd77980f11f09dbe700cdb7107559
size 398631
