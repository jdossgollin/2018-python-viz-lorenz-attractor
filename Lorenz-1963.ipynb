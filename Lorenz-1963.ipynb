version https://git-lfs.github.com/spec/v1
oid sha256:78dec2b05e08ad3109873307d47c8ff6fad099105beac59bd668736c6a1e5417
size 357652
