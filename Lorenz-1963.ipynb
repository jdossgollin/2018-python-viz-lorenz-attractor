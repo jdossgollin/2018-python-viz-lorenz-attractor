version https://git-lfs.github.com/spec/v1
oid sha256:aee789941d45e60f2d46bde79601aa6f86b5f7f2da95b7e907b2ec03d2674747
size 224882
